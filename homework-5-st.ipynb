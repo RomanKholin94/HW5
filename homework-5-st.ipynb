{
 "cells": [
  {
   "cell_type": "markdown",
   "metadata": {},
   "source": [
    "# Домашнее задание 5. Линейные модели"
   ]
  },
  {
   "cell_type": "code",
   "execution_count": 1,
   "metadata": {
    "collapsed": false
   },
   "outputs": [
    {
     "name": "stderr",
     "output_type": "stream",
     "text": [
      "/usr/local/lib/python2.7/dist-packages/matplotlib/font_manager.py:273: UserWarning: Matplotlib is building the font cache using fc-list. This may take a moment.\n",
      "  warnings.warn('Matplotlib is building the font cache using fc-list. This may take a moment.')\n"
     ]
    },
    {
     "name": "stdout",
     "output_type": "stream",
     "text": [
      "Populating the interactive namespace from numpy and matplotlib\n"
     ]
    }
   ],
   "source": [
    "import random as pr\n",
    "import numpy as np\n",
    "import pandas as pd\n",
    "import matplotlib.pylab as pl\n",
    "import sklearn.cross_validation as cv\n",
    "import sklearn.metrics as sm\n",
    "\n",
    "# Plotting config\n",
    "%pylab inline"
   ]
  },
  {
   "cell_type": "markdown",
   "metadata": {},
   "source": [
    "Зачитываем результат 4 домашки"
   ]
  },
  {
   "cell_type": "code",
   "execution_count": 2,
   "metadata": {
    "collapsed": false,
    "scrolled": true
   },
   "outputs": [],
   "source": [
    "data = np.load(\"out_4.dat.npz\")\n",
    "users = data[\"users\"]\n",
    "X_dataset = data[\"data\"].reshape(1,)[0]"
   ]
  },
  {
   "cell_type": "markdown",
   "metadata": {},
   "source": [
    "Зачитываем категории пользователей"
   ]
  },
  {
   "cell_type": "code",
   "execution_count": 4,
   "metadata": {
    "collapsed": false
   },
   "outputs": [],
   "source": [
    "TRAINING_SET_URL = \"train.csv\"\n",
    "EXAMPLE_SET_URL = \"test.csv\"\n",
    "df_users_train = pd.read_csv(TRAINING_SET_URL, sep=\",\", header=0)\n",
    "df_users_ex = pd.read_csv(EXAMPLE_SET_URL, sep=\",\", header=0)\n",
    "df_users_ex['cls'] = None\n",
    "df_users = pd.concat([df_users_train, df_users_ex])"
   ]
  },
  {
   "cell_type": "markdown",
   "metadata": {},
   "source": [
    "Модель строим для пользователей из twitter_train, нужно выбрать этих пользователей из матрицы из 4 ДЗ:"
   ]
  },
  {
   "cell_type": "code",
   "execution_count": 5,
   "metadata": {
    "collapsed": false,
    "scrolled": true
   },
   "outputs": [],
   "source": [
    "# TODO check this code\n",
    "train_users = df_users_train[\"uid\"].values\n",
    "ix = np.in1d(users, train_users).reshape(users.shape)\n",
    "X = X_dataset[np.where(ix)]"
   ]
  },
  {
   "cell_type": "code",
   "execution_count": 335,
   "metadata": {
    "collapsed": false
   },
   "outputs": [
    {
     "name": "stdout",
     "output_type": "stream",
     "text": [
      "4055\n"
     ]
    }
   ],
   "source": [
    "users_ex = df_users_ex[\"uid\"].values\n",
    "ix = np.in1d(users, users_ex).reshape(users.shape)\n",
    "X_ex = X_dataset[np.where(ix)]\n",
    "print X_ex.shape[0]"
   ]
  },
  {
   "cell_type": "markdown",
   "metadata": {},
   "source": [
    "Формируем целевую переменную: Делаем join списка пользователей из ДЗ4 с обучающей выборкой."
   ]
  },
  {
   "cell_type": "code",
   "execution_count": 8,
   "metadata": {
    "collapsed": false
   },
   "outputs": [
    {
     "name": "stdout",
     "output_type": "stream",
     "text": [
      "Resulting training set: (6905x333148) feature matrix, 6905 target vector\n"
     ]
    }
   ],
   "source": [
    "ix = np.in1d(users, train_users).reshape(users.shape)\n",
    "Y = df_users_train['cls'].values[np.where(ix)]\n",
    "print \"Resulting training set: (%dx%d) feature matrix, %d target vector\" % (X.shape[0], X.shape[1], Y.shape[0])"
   ]
  },
  {
   "cell_type": "markdown",
   "metadata": {},
   "source": [
    "Чтобы исследовать, как ведут себя признаки, построим распределение количества ненулевых признаков у пользователей, чтобы убедиться, что он удовлетворяет закону Ципфа. Для этого построим гистограмму в логарифмических осях. [Подсказка](http://anokhin.github.io/img/sf1.png)"
   ]
  },
  {
   "cell_type": "code",
   "execution_count": 10,
   "metadata": {
    "collapsed": false
   },
   "outputs": [
    {
     "name": "stdout",
     "output_type": "stream",
     "text": [
      "238233\n"
     ]
    },
    {
     "data": {
      "image/png": "[encoded data removed]",
      "text/plain": [
       "<matplotlib.figure.Figure at 0x7f44c42a3a10>"
      ]
     },
     "metadata": {},
     "output_type": "display_data"
    },
    {
     "name": "stdout",
     "output_type": "stream",
     "text": [
      "3345\n"
     ]
    }
   ],
   "source": [
    "#from math import log\n",
    "def draw_log_hist(x):\n",
    "    \"\"\"Draw tokens histogram in log scales\"\"\"\n",
    "    d = {}\n",
    "    for i in X:\n",
    "        for j in i.indices:\n",
    "            if d.get(j) == None:\n",
    "                d[j] = 1\n",
    "            else:\n",
    "                d[j] += 1\n",
    "    a = []\n",
    "    b = np.zeros(X.shape[1])\n",
    "    for i in d.items():\n",
    "        a.append(i[1])\n",
    "        b[i[0]] = i[1]\n",
    "    print len(a)\n",
    "    a.sort()\n",
    "    a.reverse()\n",
    "    x = []\n",
    "    y = []\n",
    "    for i, j in enumerate(a):\n",
    "        x.append(log(j + 1))\n",
    "        y.append(log(i + 1))\n",
    "\n",
    "    pl.figure()\n",
    "\n",
    "    #pl.scatter(x, y)\n",
    "    pl.loglog([i + 1 for i in xrange(len(a))], a)\n",
    "    pl.show()\n",
    "    #plt.xlabel('Computer Science Doctorates Awarded (US)')\n",
    "    #plt.ylabel('Total Arcade Revenue (billions)')\n",
    "    k = 0\n",
    "    for i in a:\n",
    "        if i > 100:\n",
    "            k += 1\n",
    "    print k\n",
    "    return b\n",
    "\n",
    "features_counts = draw_log_hist(X)"
   ]
  },
  {
   "cell_type": "markdown",
   "metadata": {},
   "source": [
    "Проведем отбор признаков. В самом простом случае просто удаляем признаки, имеющие ненулевое значение у менее, чем 100 пользователей."
   ]
  },
  {
   "cell_type": "code",
   "execution_count": 265,
   "metadata": {
    "collapsed": false
   },
   "outputs": [],
   "source": [
    "X1 = X.tocsc()[:, features_counts > 3000].toarray()"
   ]
  },
  {
   "cell_type": "code",
   "execution_count": 266,
   "metadata": {
    "collapsed": false
   },
   "outputs": [
    {
     "data": {
      "text/plain": [
       "27"
      ]
     },
     "execution_count": 266,
     "metadata": {},
     "output_type": "execute_result"
    }
   ],
   "source": [
    "len(X1[0])"
   ]
  },
  {
   "cell_type": "markdown",
   "metadata": {},
   "source": [
    "Вариант задания генерируется на основании вашего ника в техносфере."
   ]
  },
  {
   "cell_type": "code",
   "execution_count": 267,
   "metadata": {
    "collapsed": false
   },
   "outputs": [
    {
     "name": "stdout",
     "output_type": "stream",
     "text": [
      "My homework 5 algorithm is: Logistic regression with L2 regularization optimized by Newton method\n"
     ]
    }
   ],
   "source": [
    "USER_NAME = \"rom.holin\"\n",
    "OPTIMIZATION_ALGORITHMS = [\"stochastic gradient descent\", \"Newton method\"]\n",
    "REGULARIZATIONS = [\"L1\", \"L2\"]\n",
    "\n",
    "print \"My homework 5 algorithm is: Logistic regression with %s regularization optimized by %s\" % (\n",
    "    REGULARIZATIONS[hash(USER_NAME) % 2],\n",
    "    OPTIMIZATION_ALGORITHMS[hash(USER_NAME[::-1]) % 2]\n",
    ")"
   ]
  },
  {
   "cell_type": "markdown",
   "metadata": {},
   "source": [
    "Реализуем выбранный алгоритм"
   ]
  },
  {
   "cell_type": "code",
   "execution_count": 321,
   "metadata": {
    "collapsed": false
   },
   "outputs": [],
   "source": [
    "class LogisticRegression():\n",
    "    def __init__(self, X, Y, L):\n",
    "        self.ETA = []\n",
    "        self.fit(X, Y, L)\n",
    "    \n",
    "    def std(self, a):\n",
    "        answer = 0\n",
    "        for i in a:\n",
    "            answer += i ** 2\n",
    "        return np.sqrt(answer)\n",
    "    \n",
    "    def h1(self, X, ETA):\n",
    "        #print np.dot(-ETA, X), np.exp(np.dot(-ETA, X)), 1.0 / (1.0 + np.exp(np.dot(-ETA, X)))\n",
    "        return 1.0 / (1.0 + np.exp(np.dot(-ETA, X)))\n",
    "    \n",
    "    def h2(self, X, ETA):\n",
    "        return 1.0 / (np.exp(np.dot(-ETA, X)) + np.exp(np.dot(ETA, X)) + 2)\n",
    "    \n",
    "    def grad(self, X, Y, Lambda, ETA):\n",
    "        G = np.zeros(len(X[0]))\n",
    "        q = []\n",
    "        for i in xrange(len(X)):\n",
    "            q.append(self.h1(X[i], ETA) - Y[i])\n",
    "        for j, g0 in enumerate(G):\n",
    "            for i, x0 in enumerate(X):\n",
    "                G[j] += q[i] * X[i][j]\n",
    "            G[j] /= len(X[0])\n",
    "            #G[j] += 2 * Lambda * ETA[j]\n",
    "            #print G[j]\n",
    "        return G\n",
    "    \n",
    "    def hessian(self, X, Y, ETA):\n",
    "        H = np.zeros((len(X[0]), len(X[0])))\n",
    "        q = []\n",
    "        for i in xrange(len(X)):\n",
    "            q.append(self.h2(X[i], ETA))\n",
    "            #print \"HES\", self.h(X[i], ETA), np.exp(np.dot(-ETA, X[i]))\n",
    "        for k, h0 in enumerate(H):\n",
    "            for j, h1 in enumerate(H[0]):\n",
    "                if (j >= k):\n",
    "                    for i, x0 in enumerate(X):\n",
    "                        H[k][j] += q[i] * X[i][k] * X[i][j]\n",
    "                    H[k][j] /= len(X[0])\n",
    "                else:\n",
    "                    H[k][j] = H[j][k]\n",
    "            if k % 10 == 0:\n",
    "                print \"urrraaa \", k\n",
    "                \n",
    "        return H\n",
    "                 \n",
    "    def fit(self, X, Y, Lambda):\n",
    "        eps = 0.0001\n",
    "        ETA0 = np.zeros(len(X[0]))\n",
    "        ETA = np.array([5.0 for i in xrange(len(X[0]))])#np.ones(len(X[0]))\n",
    "        cnt = 0\n",
    "        l = 0.01\n",
    "        q = 0.9\n",
    "        while self.std(ETA - ETA0) > eps:\n",
    "            G = self.grad(X, Y, Lambda, ETA)\n",
    "            #H = self.hessian(X, Y, ETA)\n",
    "            #D = np.linalg.solve(H, -G)\n",
    "            ETA0 = ETA.copy()\n",
    "            ETA -= l * q\n",
    "            l *= q\n",
    "            #print self.std(ETA - ETA0)\n",
    "        self.ETA = ETA\n",
    "    \n",
    "    def predict_proba(self, X):\n",
    "        answer = []\n",
    "        for i in X:\n",
    "            answer.append(self.h1(self.ETA,  i))\n",
    "        return answer"
   ]
  },
  {
   "cell_type": "markdown",
   "metadata": {},
   "source": [
    "Реализуем метрику качества, используемую в соревновании: площадь под ROC кривой"
   ]
  },
  {
   "cell_type": "code",
   "execution_count": 338,
   "metadata": {
    "collapsed": false
   },
   "outputs": [],
   "source": [
    "def auroc(y_prob, y_true):\n",
    "    y = pd.DataFrame(y_prob, columns=[\"prob\"])\n",
    "    y[\"true\"] = y_true\n",
    "    y = y.sort_values([\"prob\"])\n",
    "    m0 = 0.0\n",
    "    m1 = 0.0\n",
    "    for i in xrange(len(y)):\n",
    "        if y[\"true\"][i] == 0:\n",
    "            m0 += 1\n",
    "        else:\n",
    "            m1 += 1\n",
    "    fpr = []\n",
    "    fpr.append(0.0)\n",
    "    tpr = []\n",
    "    tpr.append(0.0)\n",
    "    auc = 0.0\n",
    "    for i in xrange(len(y)):\n",
    "        if y[\"true\"][i] == 0:\n",
    "            fpr.append(fpr[i] + 1.0/m0)\n",
    "            tpr.append(tpr[i])            \n",
    "            auc += (1.0/m0) * tpr[i + 1]\n",
    "        else:\n",
    "            fpr.append(fpr[i])\n",
    "            tpr.append(tpr[i] + 1.0/m1)\n",
    "    return tpr, fpr, auc"
   ]
  },
  {
   "cell_type": "markdown",
   "metadata": {},
   "source": [
    "Разделим выборку с помощью методики кросс-валидации для того, чтобы настроить параметр регуляризации $C$"
   ]
  },
  {
   "cell_type": "code",
   "execution_count": 328,
   "metadata": {
    "collapsed": false
   },
   "outputs": [
    {
     "name": "stdout",
     "output_type": "stream",
     "text": [
      "[0.4896441737533713, 0.5068629925337675]\n",
      "1\n"
     ]
    }
   ],
   "source": [
    "C = []\n",
    "h = len(X1) / 2 + 1\n",
    "a = 0\n",
    "b = h\n",
    "for i in xrange(2):\n",
    "    X_train = np.concatenate((X1[0:a], X1[b:]))\n",
    "    X_test = X1[a:b]\n",
    "    Y_train = np.concatenate((Y[0:a], Y[b:]))\n",
    "    Y_test = Y[a:b]\n",
    "    Y_proba = LogisticRegression(X_train, Y_train, i + 1).predict_proba(X_test)\n",
    "    C.append(auroc(Y_proba, Y_test)[2])\n",
    "    a += h\n",
    "    b += h\n",
    "print C\n",
    "\n",
    "def select_reg_parameter(C, X, Y):\n",
    "    return C.index(max(C))\n",
    "\n",
    "index = select_reg_parameter(C, X1, Y)\n",
    "print index\n"
   ]
  },
  {
   "cell_type": "markdown",
   "metadata": {},
   "source": [
    "Выбираем наилучшее значение $C$, и классифицируем неизвестных пользователей и строим ROC-кривую"
   ]
  },
  {
   "cell_type": "code",
   "execution_count": 341,
   "metadata": {
    "collapsed": false
   },
   "outputs": [
    {
     "name": "stdout",
     "output_type": "stream",
     "text": [
      "Area under the ROC curve : 0.485146\n"
     ]
    },
    {
     "data": {
      "image/png": "[encoded data removed]",
      "text/plain": [
       "<matplotlib.figure.Figure at 0x7f44989a83d0>"
      ]
     },
     "metadata": {},
     "output_type": "display_data"
    }
   ],
   "source": [
    "def classify(X1, X2, Y, C):\n",
    "    model = LogisticRegression(X1, Y, C)\n",
    "    Y_proba1 = model.predict_proba(X1)\n",
    "    Y_proba2 = model.predict_proba(X2)\n",
    "    tpr, fpr, roc_auc = auroc(Y_proba1, Y)\n",
    "    \n",
    "    return tpr, fpr, roc_auc, Y_proba2\n",
    "X_ex1 = X_ex.tocsc()[:, features_counts > 3000].toarray()\n",
    "tpr, fpr, roc_auc, Y_answer = classify(X1, X_ex1, Y, C[index])\n",
    "\n",
    "print \"Area under the ROC curve : %f\" % roc_auc\n",
    "\n",
    "def plot_roc_curve(tpr, fpr, roc_auc):\n",
    "    \"\"\"Plot ROC curve\"\"\"\n",
    "    pl.figure()\n",
    "    pl.plot(tpr, fpr)\n",
    "    pl.show()\n",
    "    # Your code here\n",
    "    \n",
    "    return\n",
    "\n",
    "plot_roc_curve(tpr, fpr, roc_auc)"
   ]
  },
  {
   "cell_type": "markdown",
   "metadata": {},
   "source": [
    "С помощью полученной модели предсказываем категории для неизвестных пользователей из соревнования и загружаем на kaggle в нужном формате. ДЗ принимается только при наличии загруженных данных на kaggle."
   ]
  },
  {
   "cell_type": "code",
   "execution_count": 352,
   "metadata": {
    "collapsed": false
   },
   "outputs": [],
   "source": [
    "answer = [0.0 for i in xrange(len(df_users_ex))]\n",
    "for i, j in enumerate(Y_answer):\n",
    "    answer[i] = j\n",
    "df_users_ex[\"cls\"] = answer\n",
    "df_users_ex.to_csv(\"answer.csv\")"
   ]
  },
  {
   "cell_type": "code",
   "execution_count": null,
   "metadata": {
    "collapsed": true
   },
   "outputs": [],
   "source": []
  }
 ],
 "metadata": {
  "kernelspec": {
   "display_name": "Python 2",
   "language": "python",
   "name": "python2"
  },
  "language_info": {
   "codemirror_mode": {
    "name": "ipython",
    "version": 2
   },
   "file_extension": ".py",
   "mimetype": "text/x-python",
   "name": "python",
   "nbconvert_exporter": "python",
   "pygments_lexer": "ipython2",
   "version": "2.7.6"
  }
 },
 "nbformat": 4,
 "nbformat_minor": 0
}
